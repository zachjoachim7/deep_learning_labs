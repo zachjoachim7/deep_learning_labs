{
  "cells": [
    {
      "cell_type": "markdown",
      "metadata": {
        "id": "view-in-github",
        "colab_type": "text"
      },
      "source": [
        "<a href=\"https://colab.research.google.com/github/zachjoachim7/deep_learning_labs/blob/main/DL_Lab10.ipynb\" target=\"_parent\"><img src=\"https://colab.research.google.com/assets/colab-badge.svg\" alt=\"Open In Colab\"/></a>"
      ]
    },
    {
      "cell_type": "markdown",
      "metadata": {
        "id": "w-jFCArcTC-B"
      },
      "source": [
        "<a\n",
        "href=\"https://colab.research.google.com/github/wingated/cs474_labs_f2019/blob/master/DL_Lab9.ipynb\"\n",
        "  target=\"_parent\">\n",
        "  <img\n",
        "    src=\"https://colab.research.google.com/assets/colab-badge.svg\"\n",
        "    alt=\"Open In Colab\"/>\n",
        "</a>"
      ]
    },
    {
      "cell_type": "markdown",
      "metadata": {
        "id": "sl7hEuB3J4k3"
      },
      "source": [
        "# Lab 9: Deep Reinforcement Learning\n",
        "\n",
        "## Objective\n",
        "\n",
        "- Build DQN and PPO Deep RL algorithms\n",
        "- Learn the difference between Q Learning and Policy Gradient techniques\n",
        "\n",
        "## Deliverable\n",
        "\n",
        "For this lab you will submit an ipython notebook via learning suite. This lab gives you a lot of code, and you should only need to modify two of the cells of this notebook. Feel free to download and modify this notebook or create your own. The below code is given for your convinience. You can modify any of the given code if you wish.\n",
        "\n",
        "## Tips\n",
        "\n",
        "Deep reinforcement learning is difficult. We provide hyperparameters, visualizations, and code for gathering experience, but require you to code up algorithms for training your networks.\n",
        "\n",
        "- Your networks should be able to demonstrate learning on cartpole within a minute of wall time.\n",
        "\n",
        "- Understand what your the starter code is doing. This will help you with the *TODO* sections. The main code block is similar for the two algorithms with some small yet important differences.\n",
        "\n",
        "- We provide hyperparameters for you to start with. Feel free to experiment with different values, but these worked for us.\n",
        "\n",
        "- **Print dtypes and shapes** throughout your code to make sure your tensors look the way you expect.\n",
        "\n",
        "- The DQN algorithm is significantly more unstable than PPO. Even with a correct implementation it may fail to learn every 1/10 times.\n",
        "\n",
        "- Unfortunately visualizing your agent acting in the environment is non-trivial in Colab. You can visualize your agent by running this code locally and uncommenting the `env.render()` line.\n",
        "\n",
        "## Grading\n",
        "\n",
        "- 40% Part 1: DQN *TODO* methods\n",
        "- 40% Part 2: PPO *TODO* methods\n",
        "- 20% Cartpole learning curves\n",
        "\n",
        "\n",
        "### Cartpole\n",
        "\n",
        "Cartpole is a simple environment to get your agent up and running. It has a continuous state space of 4 dimensions and a discrete action space of 2. The agent is given a reward of 1 for each timestep it remains standing. Your agent should be able to reach close to 200 cumulative reward for an episode after a minute or two of training. The below graphs show example results for dqn (left) and ppo (right).\n",
        "\n",
        "![alt text](https://github.com/wingated/cs474_labs/blob/master/images/dqn.png?raw=true)\n",
        "![alt text](https://github.com/wingated/cs474_labs/blob/master/images/ppo.png?raw=true)\n",
        "\n",
        "### TODO\n",
        "\n",
        "- Train DQN and PPO on cartpole\n",
        "- Display learning curves with average episodic reward per epoch"
      ]
    },
    {
      "cell_type": "markdown",
      "metadata": {
        "id": "gVWokqnVab6O"
      },
      "source": [
        "# Starter Code"
      ]
    },
    {
      "cell_type": "markdown",
      "metadata": {
        "id": "WhaPOG6xt0yn"
      },
      "source": [
        "## Init"
      ]
    },
    {
      "cell_type": "code",
      "execution_count": null,
      "metadata": {
        "id": "EyykNyRM1Tf3",
        "colab": {
          "base_uri": "https://localhost:8080/"
        },
        "outputId": "d5f2b63c-a1a4-46e1-fe06-2d5461f0eeba"
      },
      "outputs": [
        {
          "output_type": "stream",
          "name": "stdout",
          "text": [
            "Collecting gymnasium\n",
            "  Downloading gymnasium-0.29.1-py3-none-any.whl (953 kB)\n",
            "\u001b[2K     \u001b[90m━━━━━━━━━━━━━━━━━━━━━━━━━━━━━━━━━━━━━━━━\u001b[0m \u001b[32m953.9/953.9 kB\u001b[0m \u001b[31m7.1 MB/s\u001b[0m eta \u001b[36m0:00:00\u001b[0m\n",
            "\u001b[?25hRequirement already satisfied: numpy>=1.21.0 in /usr/local/lib/python3.10/dist-packages (from gymnasium) (1.25.2)\n",
            "Requirement already satisfied: cloudpickle>=1.2.0 in /usr/local/lib/python3.10/dist-packages (from gymnasium) (2.2.1)\n",
            "Requirement already satisfied: typing-extensions>=4.3.0 in /usr/local/lib/python3.10/dist-packages (from gymnasium) (4.10.0)\n",
            "Collecting farama-notifications>=0.0.1 (from gymnasium)\n",
            "  Downloading Farama_Notifications-0.0.4-py3-none-any.whl (2.5 kB)\n",
            "Installing collected packages: farama-notifications, gymnasium\n",
            "Successfully installed farama-notifications-0.0.4 gymnasium-0.29.1\n",
            "Requirement already satisfied: torch in /usr/local/lib/python3.10/dist-packages (2.2.1+cu121)\n",
            "Requirement already satisfied: filelock in /usr/local/lib/python3.10/dist-packages (from torch) (3.13.3)\n",
            "Requirement already satisfied: typing-extensions>=4.8.0 in /usr/local/lib/python3.10/dist-packages (from torch) (4.10.0)\n",
            "Requirement already satisfied: sympy in /usr/local/lib/python3.10/dist-packages (from torch) (1.12)\n",
            "Requirement already satisfied: networkx in /usr/local/lib/python3.10/dist-packages (from torch) (3.2.1)\n",
            "Requirement already satisfied: jinja2 in /usr/local/lib/python3.10/dist-packages (from torch) (3.1.3)\n",
            "Requirement already satisfied: fsspec in /usr/local/lib/python3.10/dist-packages (from torch) (2023.6.0)\n",
            "Collecting nvidia-cuda-nvrtc-cu12==12.1.105 (from torch)\n",
            "  Downloading nvidia_cuda_nvrtc_cu12-12.1.105-py3-none-manylinux1_x86_64.whl (23.7 MB)\n",
            "\u001b[2K     \u001b[90m━━━━━━━━━━━━━━━━━━━━━━━━━━━━━━━━━━━━━━━━\u001b[0m \u001b[32m23.7/23.7 MB\u001b[0m \u001b[31m40.3 MB/s\u001b[0m eta \u001b[36m0:00:00\u001b[0m\n",
            "\u001b[?25hCollecting nvidia-cuda-runtime-cu12==12.1.105 (from torch)\n",
            "  Downloading nvidia_cuda_runtime_cu12-12.1.105-py3-none-manylinux1_x86_64.whl (823 kB)\n",
            "\u001b[2K     \u001b[90m━━━━━━━━━━━━━━━━━━━━━━━━━━━━━━━━━━━━━━━━\u001b[0m \u001b[32m823.6/823.6 kB\u001b[0m \u001b[31m45.4 MB/s\u001b[0m eta \u001b[36m0:00:00\u001b[0m\n",
            "\u001b[?25hCollecting nvidia-cuda-cupti-cu12==12.1.105 (from torch)\n",
            "  Downloading nvidia_cuda_cupti_cu12-12.1.105-py3-none-manylinux1_x86_64.whl (14.1 MB)\n",
            "\u001b[2K     \u001b[90m━━━━━━━━━━━━━━━━━━━━━━━━━━━━━━━━━━━━━━━━\u001b[0m \u001b[32m14.1/14.1 MB\u001b[0m \u001b[31m61.2 MB/s\u001b[0m eta \u001b[36m0:00:00\u001b[0m\n",
            "\u001b[?25hCollecting nvidia-cudnn-cu12==8.9.2.26 (from torch)\n",
            "  Downloading nvidia_cudnn_cu12-8.9.2.26-py3-none-manylinux1_x86_64.whl (731.7 MB)\n",
            "\u001b[2K     \u001b[90m━━━━━━━━━━━━━━━━━━━━━━━━━━━━━━━━━━━━━━━━\u001b[0m \u001b[32m731.7/731.7 MB\u001b[0m \u001b[31m2.3 MB/s\u001b[0m eta \u001b[36m0:00:00\u001b[0m\n",
            "\u001b[?25hCollecting nvidia-cublas-cu12==12.1.3.1 (from torch)\n",
            "  Downloading nvidia_cublas_cu12-12.1.3.1-py3-none-manylinux1_x86_64.whl (410.6 MB)\n",
            "\u001b[2K     \u001b[90m━━━━━━━━━━━━━━━━━━━━━━━━━━━━━━━━━━━━━━━━\u001b[0m \u001b[32m410.6/410.6 MB\u001b[0m \u001b[31m3.8 MB/s\u001b[0m eta \u001b[36m0:00:00\u001b[0m\n",
            "\u001b[?25hCollecting nvidia-cufft-cu12==11.0.2.54 (from torch)\n",
            "  Downloading nvidia_cufft_cu12-11.0.2.54-py3-none-manylinux1_x86_64.whl (121.6 MB)\n",
            "\u001b[2K     \u001b[90m━━━━━━━━━━━━━━━━━━━━━━━━━━━━━━━━━━━━━━━━\u001b[0m \u001b[32m121.6/121.6 MB\u001b[0m \u001b[31m8.2 MB/s\u001b[0m eta \u001b[36m0:00:00\u001b[0m\n",
            "\u001b[?25hCollecting nvidia-curand-cu12==10.3.2.106 (from torch)\n",
            "  Downloading nvidia_curand_cu12-10.3.2.106-py3-none-manylinux1_x86_64.whl (56.5 MB)\n",
            "\u001b[2K     \u001b[90m━━━━━━━━━━━━━━━━━━━━━━━━━━━━━━━━━━━━━━━━\u001b[0m \u001b[32m56.5/56.5 MB\u001b[0m \u001b[31m11.3 MB/s\u001b[0m eta \u001b[36m0:00:00\u001b[0m\n",
            "\u001b[?25hCollecting nvidia-cusolver-cu12==11.4.5.107 (from torch)\n",
            "  Downloading nvidia_cusolver_cu12-11.4.5.107-py3-none-manylinux1_x86_64.whl (124.2 MB)\n",
            "\u001b[2K     \u001b[90m━━━━━━━━━━━━━━━━━━━━━━━━━━━━━━━━━━━━━━━━\u001b[0m \u001b[32m124.2/124.2 MB\u001b[0m \u001b[31m8.1 MB/s\u001b[0m eta \u001b[36m0:00:00\u001b[0m\n",
            "\u001b[?25hCollecting nvidia-cusparse-cu12==12.1.0.106 (from torch)\n",
            "  Downloading nvidia_cusparse_cu12-12.1.0.106-py3-none-manylinux1_x86_64.whl (196.0 MB)\n",
            "\u001b[2K     \u001b[90m━━━━━━━━━━━━━━━━━━━━━━━━━━━━━━━━━━━━━━━━\u001b[0m \u001b[32m196.0/196.0 MB\u001b[0m \u001b[31m2.2 MB/s\u001b[0m eta \u001b[36m0:00:00\u001b[0m\n",
            "\u001b[?25hCollecting nvidia-nccl-cu12==2.19.3 (from torch)\n",
            "  Downloading nvidia_nccl_cu12-2.19.3-py3-none-manylinux1_x86_64.whl (166.0 MB)\n",
            "\u001b[2K     \u001b[90m━━━━━━━━━━━━━━━━━━━━━━━━━━━━━━━━━━━━━━━━\u001b[0m \u001b[32m166.0/166.0 MB\u001b[0m \u001b[31m6.3 MB/s\u001b[0m eta \u001b[36m0:00:00\u001b[0m\n",
            "\u001b[?25hCollecting nvidia-nvtx-cu12==12.1.105 (from torch)\n",
            "  Downloading nvidia_nvtx_cu12-12.1.105-py3-none-manylinux1_x86_64.whl (99 kB)\n",
            "\u001b[2K     \u001b[90m━━━━━━━━━━━━━━━━━━━━━━━━━━━━━━━━━━━━━━━━\u001b[0m \u001b[32m99.1/99.1 kB\u001b[0m \u001b[31m15.2 MB/s\u001b[0m eta \u001b[36m0:00:00\u001b[0m\n",
            "\u001b[?25hRequirement already satisfied: triton==2.2.0 in /usr/local/lib/python3.10/dist-packages (from torch) (2.2.0)\n",
            "Collecting nvidia-nvjitlink-cu12 (from nvidia-cusolver-cu12==11.4.5.107->torch)\n",
            "  Downloading nvidia_nvjitlink_cu12-12.4.99-py3-none-manylinux2014_x86_64.whl (21.1 MB)\n",
            "\u001b[2K     \u001b[90m━━━━━━━━━━━━━━━━━━━━━━━━━━━━━━━━━━━━━━━━\u001b[0m \u001b[32m21.1/21.1 MB\u001b[0m \u001b[31m80.3 MB/s\u001b[0m eta \u001b[36m0:00:00\u001b[0m\n",
            "\u001b[?25hRequirement already satisfied: MarkupSafe>=2.0 in /usr/local/lib/python3.10/dist-packages (from jinja2->torch) (2.1.5)\n",
            "Requirement already satisfied: mpmath>=0.19 in /usr/local/lib/python3.10/dist-packages (from sympy->torch) (1.3.0)\n",
            "Installing collected packages: nvidia-nvtx-cu12, nvidia-nvjitlink-cu12, nvidia-nccl-cu12, nvidia-curand-cu12, nvidia-cufft-cu12, nvidia-cuda-runtime-cu12, nvidia-cuda-nvrtc-cu12, nvidia-cuda-cupti-cu12, nvidia-cublas-cu12, nvidia-cusparse-cu12, nvidia-cudnn-cu12, nvidia-cusolver-cu12\n",
            "Successfully installed nvidia-cublas-cu12-12.1.3.1 nvidia-cuda-cupti-cu12-12.1.105 nvidia-cuda-nvrtc-cu12-12.1.105 nvidia-cuda-runtime-cu12-12.1.105 nvidia-cudnn-cu12-8.9.2.26 nvidia-cufft-cu12-11.0.2.54 nvidia-curand-cu12-10.3.2.106 nvidia-cusolver-cu12-11.4.5.107 nvidia-cusparse-cu12-12.1.0.106 nvidia-nccl-cu12-2.19.3 nvidia-nvjitlink-cu12-12.4.99 nvidia-nvtx-cu12-12.1.105\n",
            "Requirement already satisfied: pygame in /usr/local/lib/python3.10/dist-packages (2.5.2)\n",
            "Requirement already satisfied: moviepy==1.0.3 in /usr/local/lib/python3.10/dist-packages (1.0.3)\n",
            "Requirement already satisfied: decorator<5.0,>=4.0.2 in /usr/local/lib/python3.10/dist-packages (from moviepy==1.0.3) (4.4.2)\n",
            "Requirement already satisfied: tqdm<5.0,>=4.11.2 in /usr/local/lib/python3.10/dist-packages (from moviepy==1.0.3) (4.66.2)\n",
            "Requirement already satisfied: requests<3.0,>=2.8.1 in /usr/local/lib/python3.10/dist-packages (from moviepy==1.0.3) (2.31.0)\n",
            "Requirement already satisfied: proglog<=1.0.0 in /usr/local/lib/python3.10/dist-packages (from moviepy==1.0.3) (0.1.10)\n",
            "Requirement already satisfied: numpy>=1.17.3 in /usr/local/lib/python3.10/dist-packages (from moviepy==1.0.3) (1.25.2)\n",
            "Requirement already satisfied: imageio<3.0,>=2.5 in /usr/local/lib/python3.10/dist-packages (from moviepy==1.0.3) (2.31.6)\n",
            "Requirement already satisfied: imageio-ffmpeg>=0.2.0 in /usr/local/lib/python3.10/dist-packages (from moviepy==1.0.3) (0.4.9)\n",
            "Requirement already satisfied: pillow<10.1.0,>=8.3.2 in /usr/local/lib/python3.10/dist-packages (from imageio<3.0,>=2.5->moviepy==1.0.3) (9.4.0)\n",
            "Requirement already satisfied: setuptools in /usr/local/lib/python3.10/dist-packages (from imageio-ffmpeg>=0.2.0->moviepy==1.0.3) (67.7.2)\n",
            "Requirement already satisfied: charset-normalizer<4,>=2 in /usr/local/lib/python3.10/dist-packages (from requests<3.0,>=2.8.1->moviepy==1.0.3) (3.3.2)\n",
            "Requirement already satisfied: idna<4,>=2.5 in /usr/local/lib/python3.10/dist-packages (from requests<3.0,>=2.8.1->moviepy==1.0.3) (3.6)\n",
            "Requirement already satisfied: urllib3<3,>=1.21.1 in /usr/local/lib/python3.10/dist-packages (from requests<3.0,>=2.8.1->moviepy==1.0.3) (2.0.7)\n",
            "Requirement already satisfied: certifi>=2017.4.17 in /usr/local/lib/python3.10/dist-packages (from requests<3.0,>=2.8.1->moviepy==1.0.3) (2024.2.2)\n",
            "Requirement already satisfied: imageio_ffmpeg in /usr/local/lib/python3.10/dist-packages (0.4.9)\n",
            "Requirement already satisfied: setuptools in /usr/local/lib/python3.10/dist-packages (from imageio_ffmpeg) (67.7.2)\n",
            "Collecting pyvirtualdisplay\n",
            "  Downloading PyVirtualDisplay-3.0-py3-none-any.whl (15 kB)\n",
            "Installing collected packages: pyvirtualdisplay\n",
            "Successfully installed pyvirtualdisplay-3.0\n",
            "Reading package lists... Done\n",
            "Building dependency tree... Done\n",
            "Reading state information... Done\n",
            "ffmpeg is already the newest version (7:4.4.2-0ubuntu0.22.04.1).\n",
            "The following additional packages will be installed:\n",
            "  freeglut3 libfontenc1 libglu1-mesa libxfont2 libxkbfile1 x11-xkb-utils xfonts-base\n",
            "  xfonts-encodings xfonts-utils xserver-common\n",
            "Suggested packages:\n",
            "  libgle3 python3-numpy\n",
            "The following NEW packages will be installed:\n",
            "  freeglut3 libfontenc1 libglu1-mesa libxfont2 libxkbfile1 python3-opengl x11-xkb-utils xfonts-base\n",
            "  xfonts-encodings xfonts-utils xserver-common xvfb\n",
            "0 upgraded, 12 newly installed, 0 to remove and 45 not upgraded.\n",
            "Need to get 8,638 kB of archives.\n",
            "After this operation, 20.0 MB of additional disk space will be used.\n",
            "Get:1 http://archive.ubuntu.com/ubuntu jammy/universe amd64 freeglut3 amd64 2.8.1-6 [74.0 kB]\n",
            "Get:2 http://archive.ubuntu.com/ubuntu jammy/main amd64 libfontenc1 amd64 1:1.1.4-1build3 [14.7 kB]\n",
            "Get:3 http://archive.ubuntu.com/ubuntu jammy/main amd64 libxfont2 amd64 1:2.0.5-1build1 [94.5 kB]\n",
            "Get:4 http://archive.ubuntu.com/ubuntu jammy/main amd64 libxkbfile1 amd64 1:1.1.0-1build3 [71.8 kB]\n",
            "Get:5 http://archive.ubuntu.com/ubuntu jammy/main amd64 libglu1-mesa amd64 9.0.2-1 [145 kB]\n",
            "Get:6 http://archive.ubuntu.com/ubuntu jammy/universe amd64 python3-opengl all 3.1.5+dfsg-1 [605 kB]\n",
            "Get:7 http://archive.ubuntu.com/ubuntu jammy/main amd64 x11-xkb-utils amd64 7.7+5build4 [172 kB]\n",
            "Get:8 http://archive.ubuntu.com/ubuntu jammy/main amd64 xfonts-encodings all 1:1.0.5-0ubuntu2 [578 kB]\n",
            "Get:9 http://archive.ubuntu.com/ubuntu jammy/main amd64 xfonts-utils amd64 1:7.7+6build2 [94.6 kB]\n",
            "Get:10 http://archive.ubuntu.com/ubuntu jammy/main amd64 xfonts-base all 1:1.0.5 [5,896 kB]\n",
            "Get:11 http://archive.ubuntu.com/ubuntu jammy-updates/main amd64 xserver-common all 2:21.1.4-2ubuntu1.7~22.04.8 [28.6 kB]\n",
            "Get:12 http://archive.ubuntu.com/ubuntu jammy-updates/universe amd64 xvfb amd64 2:21.1.4-2ubuntu1.7~22.04.8 [863 kB]\n",
            "Fetched 8,638 kB in 1s (8,586 kB/s)\n",
            "Selecting previously unselected package freeglut3:amd64.\n",
            "(Reading database ... 121753 files and directories currently installed.)\n",
            "Preparing to unpack .../00-freeglut3_2.8.1-6_amd64.deb ...\n",
            "Unpacking freeglut3:amd64 (2.8.1-6) ...\n",
            "Selecting previously unselected package libfontenc1:amd64.\n",
            "Preparing to unpack .../01-libfontenc1_1%3a1.1.4-1build3_amd64.deb ...\n",
            "Unpacking libfontenc1:amd64 (1:1.1.4-1build3) ...\n",
            "Selecting previously unselected package libxfont2:amd64.\n",
            "Preparing to unpack .../02-libxfont2_1%3a2.0.5-1build1_amd64.deb ...\n",
            "Unpacking libxfont2:amd64 (1:2.0.5-1build1) ...\n",
            "Selecting previously unselected package libxkbfile1:amd64.\n",
            "Preparing to unpack .../03-libxkbfile1_1%3a1.1.0-1build3_amd64.deb ...\n",
            "Unpacking libxkbfile1:amd64 (1:1.1.0-1build3) ...\n",
            "Selecting previously unselected package libglu1-mesa:amd64.\n",
            "Preparing to unpack .../04-libglu1-mesa_9.0.2-1_amd64.deb ...\n",
            "Unpacking libglu1-mesa:amd64 (9.0.2-1) ...\n",
            "Selecting previously unselected package python3-opengl.\n",
            "Preparing to unpack .../05-python3-opengl_3.1.5+dfsg-1_all.deb ...\n",
            "Unpacking python3-opengl (3.1.5+dfsg-1) ...\n",
            "Selecting previously unselected package x11-xkb-utils.\n",
            "Preparing to unpack .../06-x11-xkb-utils_7.7+5build4_amd64.deb ...\n",
            "Unpacking x11-xkb-utils (7.7+5build4) ...\n",
            "Selecting previously unselected package xfonts-encodings.\n",
            "Preparing to unpack .../07-xfonts-encodings_1%3a1.0.5-0ubuntu2_all.deb ...\n",
            "Unpacking xfonts-encodings (1:1.0.5-0ubuntu2) ...\n",
            "Selecting previously unselected package xfonts-utils.\n",
            "Preparing to unpack .../08-xfonts-utils_1%3a7.7+6build2_amd64.deb ...\n",
            "Unpacking xfonts-utils (1:7.7+6build2) ...\n",
            "Selecting previously unselected package xfonts-base.\n",
            "Preparing to unpack .../09-xfonts-base_1%3a1.0.5_all.deb ...\n",
            "Unpacking xfonts-base (1:1.0.5) ...\n",
            "Selecting previously unselected package xserver-common.\n",
            "Preparing to unpack .../10-xserver-common_2%3a21.1.4-2ubuntu1.7~22.04.8_all.deb ...\n",
            "Unpacking xserver-common (2:21.1.4-2ubuntu1.7~22.04.8) ...\n",
            "Selecting previously unselected package xvfb.\n",
            "Preparing to unpack .../11-xvfb_2%3a21.1.4-2ubuntu1.7~22.04.8_amd64.deb ...\n",
            "Unpacking xvfb (2:21.1.4-2ubuntu1.7~22.04.8) ...\n",
            "Setting up freeglut3:amd64 (2.8.1-6) ...\n",
            "Setting up libfontenc1:amd64 (1:1.1.4-1build3) ...\n",
            "Setting up xfonts-encodings (1:1.0.5-0ubuntu2) ...\n",
            "Setting up libglu1-mesa:amd64 (9.0.2-1) ...\n",
            "Setting up libxkbfile1:amd64 (1:1.1.0-1build3) ...\n",
            "Setting up libxfont2:amd64 (1:2.0.5-1build1) ...\n",
            "Setting up x11-xkb-utils (7.7+5build4) ...\n",
            "Setting up python3-opengl (3.1.5+dfsg-1) ...\n",
            "Setting up xfonts-utils (1:7.7+6build2) ...\n",
            "Setting up xfonts-base (1:1.0.5) ...\n",
            "Setting up xserver-common (2:21.1.4-2ubuntu1.7~22.04.8) ...\n",
            "Setting up xvfb (2:21.1.4-2ubuntu1.7~22.04.8) ...\n",
            "Processing triggers for man-db (2.10.2-1) ...\n",
            "Processing triggers for fontconfig (2.13.1-4.2ubuntu5) ...\n",
            "Processing triggers for libc-bin (2.35-0ubuntu3.4) ...\n",
            "/sbin/ldconfig.real: /usr/local/lib/libtbbbind_2_5.so.3 is not a symbolic link\n",
            "\n",
            "/sbin/ldconfig.real: /usr/local/lib/libtbbbind.so.3 is not a symbolic link\n",
            "\n",
            "/sbin/ldconfig.real: /usr/local/lib/libtbbmalloc_proxy.so.2 is not a symbolic link\n",
            "\n",
            "/sbin/ldconfig.real: /usr/local/lib/libtbbmalloc.so.2 is not a symbolic link\n",
            "\n",
            "/sbin/ldconfig.real: /usr/local/lib/libtbb.so.12 is not a symbolic link\n",
            "\n",
            "/sbin/ldconfig.real: /usr/local/lib/libtbbbind_2_0.so.3 is not a symbolic link\n",
            "\n"
          ]
        }
      ],
      "source": [
        "! pip3 install gymnasium\n",
        "! pip3 install torch\n",
        "! pip install pygame\n",
        "! pip install moviepy==1.0.3\n",
        "! pip install imageio_ffmpeg\n",
        "! pip install pyvirtualdisplay\n",
        "! apt-get install -y xvfb python3-opengl ffmpeg"
      ]
    },
    {
      "cell_type": "code",
      "execution_count": null,
      "metadata": {
        "id": "Rim8iocC1Vva"
      },
      "outputs": [],
      "source": [
        "import gymnasium as gym\n",
        "import torch\n",
        "import torch.nn as nn\n",
        "import torch.nn.functional as F\n",
        "from itertools import chain\n",
        "import matplotlib.pyplot as plt\n",
        "from tqdm import tqdm\n",
        "import random\n",
        "from torch.utils.data import Dataset, DataLoader\n",
        "import numpy as np\n",
        "\n",
        "from gymnasium import logger as gymlogger\n",
        "from gymnasium.wrappers import RecordVideo\n",
        "gymlogger.set_level(40) #error only\n",
        "\n",
        "import glob\n",
        "import io\n",
        "import base64\n",
        "from IPython.display import HTML\n",
        "from IPython import display as ipythondisplay"
      ]
    },
    {
      "cell_type": "code",
      "execution_count": null,
      "metadata": {
        "id": "l1f8lZp19Lwj",
        "colab": {
          "base_uri": "https://localhost:8080/"
        },
        "outputId": "65749101-039a-405c-f4d5-990c4d613449"
      },
      "outputs": [
        {
          "output_type": "execute_result",
          "data": {
            "text/plain": [
              "<pyvirtualdisplay.display.Display at 0x7d5b8891f550>"
            ]
          },
          "metadata": {},
          "execution_count": 3
        }
      ],
      "source": [
        "from pyvirtualdisplay import Display\n",
        "display = Display(visible=0, size=(1400,900))\n",
        "display.start()"
      ]
    },
    {
      "cell_type": "code",
      "execution_count": null,
      "metadata": {
        "id": "_TI_5c0l9Ojv"
      },
      "outputs": [],
      "source": [
        "def show_video():\n",
        "  mp4list = glob.glob('video/*.mp4')\n",
        "  if len(mp4list) > 0:\n",
        "    mp4 = mp4list[0]\n",
        "    video = io.open(mp4, 'r+b').read()\n",
        "    encoded = base64.b64encode(video)\n",
        "    ipythondisplay.display(HTML(data='''<video alt=\"test\" autoplay\n",
        "                loop controls style=\"height: 400px;\">\n",
        "                <source src=\"data:video/mp4;base64,{0}\" type=\"video/mp4\" />\n",
        "             </video>'''.format(encoded.decode('ascii'))))\n",
        "  else:\n",
        "    print(\"Could not find video\")\n",
        "\n",
        "def wrap_env(env):\n",
        "  env = RecordVideo(env, './video')\n",
        "  return env"
      ]
    },
    {
      "cell_type": "markdown",
      "metadata": {
        "id": "mV282uYJ2aSw"
      },
      "source": [
        "## DQN"
      ]
    },
    {
      "cell_type": "markdown",
      "metadata": {
        "id": "Qi_aDdTg2btp"
      },
      "source": [
        "## Part 1\n",
        "\n",
        "\n",
        "Deep Q-Network (https://www.cs.toronto.edu/~vmnih/docs/dqn.pdf) is a Q-learning algorithm that learns values for state-action pairs.\n",
        "\n",
        "Actions are sampled according to an $\\epsilon-greedy$ policy to help with exploration of the state space. Every time an action is sampled, the agent chooses a random action with $\\epsilon$ probability. Otherwise, the agent selects the action with the highest Q-value for a state. $\\epsilon$ decays over time according to $\\epsilon \\gets \\epsilon * epsilon\\_decay$.\n",
        "\n",
        "Tuples of state, action, reward, next_state, and terminal $(s,a,r,s',d)$ are collected during training. Every $learn\\_frequency$ steps $sample\\_size$ tuples are sampled and made into 5 tensors tensors of states, actions, rewarads, next_states, and terminals.\n",
        "\n",
        "The loss for a batch of size N is given below.\n",
        "\n",
        "$Loss=\\frac{1}{N}\\sum \\bigg(Q(s,a) - (r + \\gamma \\underset{a'\\sim A}{max} \\hat{Q}(s',a')(1-d))\\bigg)^2 $\n",
        "\n",
        "Loss is calculated and used to update the Q-Network. The target network $\\hat{Q}$ begins as a copy of the Q network but is not updated by the optimizer. Every $target\\_update$ steps, the target network is updated with the parameters of the Q-Network. This process is a type of bootstrapping.\n",
        "\n",
        "### TODO\n",
        "\n",
        "- Implement get action method with e-greedy policy\n",
        "- Implement sample batch method\n",
        "- Implement DQN learning algorithm\n",
        "\n"
      ]
    },
    {
      "cell_type": "code",
      "execution_count": null,
      "metadata": {
        "id": "_mBUvXkT2dHy"
      },
      "outputs": [],
      "source": [
        "def get_action_dqn(network, state, epsilon, epsilon_decay):\n",
        "  \"\"\"Select action according to e-greedy policy and decay epsilon\n",
        "\n",
        "    Args:\n",
        "        network (QNetwork): Q-Network\n",
        "        state (np-array): current state, size (state_size)\n",
        "        epsilon (float): probability of choosing a random action\n",
        "        epsilon_decay (float): amount by which to decay epsilon\n",
        "\n",
        "    Returns:\n",
        "        action (int): chosen action [0, action_size)\n",
        "        epsilon (float): decayed epsilon\n",
        "  \"\"\"\n",
        "  # Turn the state from np.array to tensor and pass to gpu.\n",
        "  tensor_state = torch.from_numpy(state.astype('float32')).cuda()\n",
        "  # Get a random number to see if we choose random step or not.\n",
        "  random_chance = np.random.random()\n",
        "  # If we choose random step, get the q-values from that\n",
        "  if random_chance <= epsilon:\n",
        "    next_choice = torch.from_numpy(np.random.random_sample((2,)).astype('float32'))\n",
        "  # If we do not choose a random step, plug the tensor_state into the network to get the best choice from q-table.\n",
        "  elif random_chance > epsilon:\n",
        "    next_choice = network(tensor_state.unsqueeze(0))\n",
        "  # Take the argmax of next_choice to get the actual choice we will take.\n",
        "  final_choice = torch.argmax(next_choice)\n",
        "  # Calculate the new epsilon with its decay\n",
        "  new_epsilon = epsilon*epsilon_decay\n",
        "\n",
        "  return final_choice.item(), new_epsilon\n",
        "\n",
        "\n",
        "def prepare_batch(memory, batch_size):\n",
        "  \"\"\"Randomly sample batch from memory\n",
        "     Prepare cuda tensors\n",
        "\n",
        "    Args:\n",
        "        memory (list): state, action, next_state, reward, done tuples\n",
        "        batch_size (int): amount of memory to sample into a batch\n",
        "\n",
        "    Returns:\n",
        "        state (tensor): float cuda tensor of size (batch_size x state_size)\n",
        "        action (tensor): long tensor of size (batch_size)\n",
        "        next_state (tensor): float cuda tensor of size (batch_size x state_size)\n",
        "        reward (tensor): float cuda tensor of size (batch_size)\n",
        "        done (tensor): float cuda tensor of size (batch_size)\n",
        "  \"\"\"\n",
        "  random_sample_batch = random.sample(memory, batch_size)\n",
        "\n",
        "  # Get necessary tensors\n",
        "  state = [item[0] for item in random_sample_batch]\n",
        "  action = [item[1] for item in random_sample_batch]\n",
        "  next_state = [item[2] for item in random_sample_batch]\n",
        "  reward = [item[3] for item in random_sample_batch]\n",
        "  done = [item[4] for item in random_sample_batch]\n",
        "\n",
        "  # Turn those tensors into the needed tensors as perscribed above.\n",
        "  state_t = torch.FloatTensor(state).cuda()\n",
        "  action_t = torch.LongTensor(action).cuda()\n",
        "  next_state_t = torch.FloatTensor(next_state).cuda()\n",
        "  reward_t = torch.FloatTensor(reward).cuda()\n",
        "  done_t = torch.FloatTensor(done).cuda()\n",
        "\n",
        "  return state_t, action_t, next_state_t, reward_t, done_t\n",
        "\n",
        "\n",
        "def learn_dqn(batch, optim, q_network, target_network, gamma, global_step, target_update):\n",
        "  \"\"\"Update Q-Network according to DQN Loss function\n",
        "     Update Target Network every target_update global steps\n",
        "\n",
        "    Args:\n",
        "        batch (tuple): tuple of state, action, next_state, reward, and done tensors\n",
        "        optim (Adam): Q-Network optimizer\n",
        "        q_network (QNetwork): Q-Network\n",
        "        target_network (QNetwork): Target Q-Network\n",
        "        gamma (float): discount factor\n",
        "        global_step (int): total steps taken in environment\n",
        "        target_update (int): frequency of target network update\n",
        "  \"\"\"\n",
        "  # Separate tuple\n",
        "  state, action, next_state, reward, done_tensor = batch\n",
        "  # Clear gradients.\n",
        "  optim.zero_grad()\n",
        "  # Get y_truth from the target_network (pass in next_state to get prediction)\n",
        "  y_truth = target_network(next_state)\n",
        "  # Get y_hat from the q_network\n",
        "  y_hat = q_network(state)\n",
        "  action_onehot = F.one_hot(action).bool()\n",
        "  # Get the reward + gamma*argmax(future)*(1-dones)\n",
        "  second_half_of_equation = reward + (gamma * torch.max(y_truth, dim=1)[0] * (1-done_tensor.long()))\n",
        "  # Get loss\n",
        "  loss = F.mse_loss(y_hat[action_onehot], second_half_of_equation)\n",
        "  # Do normal nn stuff\n",
        "  loss.backward()\n",
        "  optim.step()\n",
        "\n",
        "  # Possibly get rid of\n",
        "  if global_step % target_update == 0:\n",
        "    target_network.load_state_dict(q_network.state_dict())\n",
        "\n",
        "  pass\n"
      ]
    },
    {
      "cell_type": "markdown",
      "metadata": {
        "id": "vGQgiY0WvImB"
      },
      "source": [
        "### Modules"
      ]
    },
    {
      "cell_type": "code",
      "execution_count": null,
      "metadata": {
        "id": "1vMhl-oevIBo"
      },
      "outputs": [],
      "source": [
        "# Q-Value Network\n",
        "class QNetwork(nn.Module):\n",
        "  def __init__(self, state_size, action_size):\n",
        "    super().__init__()\n",
        "    hidden_size = 8\n",
        "\n",
        "    self.net = nn.Sequential(nn.Linear(state_size, hidden_size),\n",
        "                             nn.ReLU(),\n",
        "                             nn.Linear(hidden_size, hidden_size),\n",
        "                             nn.ReLU(),\n",
        "                             nn.Linear(hidden_size, hidden_size),\n",
        "                             nn.ReLU(),\n",
        "                             nn.Linear(hidden_size, action_size))\n",
        "\n",
        "  def forward(self, x):\n",
        "    \"\"\"Estimate q-values given state\n",
        "\n",
        "      Args:\n",
        "          state (tensor): current state, size (batch x state_size)\n",
        "\n",
        "      Returns:\n",
        "          q-values (tensor): estimated q-values, size (batch x action_size)\n",
        "    \"\"\"\n",
        "    return self.net(x)"
      ]
    },
    {
      "cell_type": "markdown",
      "metadata": {
        "id": "yCafVI552dgg"
      },
      "source": [
        "### Main"
      ]
    },
    {
      "cell_type": "code",
      "execution_count": null,
      "metadata": {
        "id": "8Sy_r9Wr2eg8",
        "colab": {
          "base_uri": "https://localhost:8080/",
          "height": 684
        },
        "outputId": "f57df44d-b03a-49c5-82aa-34c993832a34"
      },
      "outputs": [
        {
          "output_type": "stream",
          "name": "stderr",
          "text": [
            "Episodes: 38 Reward: 9.0:   8%|▊         | 39/500 [00:00<00:06, 76.40it/s] <ipython-input-5-d16a80f49e26>:65: UserWarning: Creating a tensor from a list of numpy.ndarrays is extremely slow. Please consider converting the list to a single numpy.ndarray with numpy.array() before converting to a tensor. (Triggered internally at ../torch/csrc/utils/tensor_new.cpp:275.)\n",
            "  state_t      = torch.FloatTensor(state).cuda()\n",
            "Episodes: 498 Reward: 164.0: 100%|█████████▉| 499/500 [01:40<00:00,  2.57it/s]"
          ]
        },
        {
          "output_type": "stream",
          "name": "stdout",
          "text": [
            "Moviepy - Building video /content/video/rl-video-episode-0.mp4.\n",
            "Moviepy - Writing video /content/video/rl-video-episode-0.mp4\n",
            "\n"
          ]
        },
        {
          "output_type": "stream",
          "name": "stderr",
          "text": [
            "\n",
            "t:   0%|          | 0/141 [00:00<?, ?it/s, now=None]\u001b[A\n",
            "t:   2%|▏         | 3/141 [00:00<00:05, 26.00it/s, now=None]\u001b[A\n",
            "t:  33%|███▎      | 47/141 [00:00<00:00, 251.07it/s, now=None]\u001b[A\n",
            "t:  52%|█████▏    | 74/141 [00:00<00:00, 231.96it/s, now=None]\u001b[A\n",
            "t:  74%|███████▍  | 105/141 [00:00<00:00, 259.94it/s, now=None]\u001b[A\n",
            "t:  97%|█████████▋| 137/141 [00:00<00:00, 276.89it/s, now=None]\u001b[A\n",
            "                                                                              "
          ]
        },
        {
          "output_type": "stream",
          "name": "stdout",
          "text": [
            "Moviepy - Done !\n",
            "Moviepy - video ready /content/video/rl-video-episode-0.mp4\n"
          ]
        },
        {
          "output_type": "stream",
          "name": "stderr",
          "text": [
            "\r"
          ]
        },
        {
          "output_type": "display_data",
          "data": {
            "text/plain": [
              "<IPython.core.display.HTML object>"
            ],
            "text/html": [
              "<video alt=\"test\" autoplay\n",
              "                loop controls style=\"height: 400px;\">\n",
              "                <source src=\"data:video/mp4;base64,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\" type=\"video/mp4\" />\n",
              "             </video>"
            ]
          },
          "metadata": {}
        }
      ],
      "source": [
        "def dqn_main():\n",
        "  # Hyper parameters\n",
        "  lr = 1e-3\n",
        "  epochs = 500\n",
        "  start_training = 1000\n",
        "  gamma = 0.99\n",
        "  batch_size = 32\n",
        "  epsilon = 1\n",
        "  epsilon_decay = .9999\n",
        "  target_update = 1000\n",
        "  learn_frequency = 2\n",
        "\n",
        "  # Init environment\n",
        "  state_size = 4\n",
        "  action_size = 2\n",
        "  env = gym.make('CartPole-v1', render_mode=\"rgb_array\")\n",
        "\n",
        "  # Init networks\n",
        "  q_network = QNetwork(state_size, action_size).cuda()\n",
        "  target_network = QNetwork(state_size, action_size).cuda()\n",
        "  target_network.load_state_dict(q_network.state_dict())\n",
        "\n",
        "  # Init optimizer\n",
        "  optim = torch.optim.Adam(q_network.parameters(), lr=lr)\n",
        "\n",
        "  # Init replay buffer\n",
        "  memory = []\n",
        "\n",
        "  # Begin main loop\n",
        "  results_dqn = []\n",
        "  global_step = 0\n",
        "  loop = tqdm(total=epochs, position=0, leave=False)\n",
        "  for epoch in range(epochs):\n",
        "    last_epoch = (epoch+1 == epochs)\n",
        "    # Record the last epoch, not the previous epochs\n",
        "    if last_epoch:\n",
        "      env = wrap_env(env)\n",
        "\n",
        "    # Reset environment\n",
        "    state, _ = env.reset()\n",
        "    done = False\n",
        "    cum_reward = 0  # Track cumulative reward per episode\n",
        "\n",
        "    # Begin episode\n",
        "    while not done and cum_reward < 200:  # End after 200 steps\n",
        "      # Select e-greedy action\n",
        "      action, epsilon = get_action_dqn(q_network, state, epsilon, epsilon_decay)\n",
        "\n",
        "      # Take step\n",
        "      next_state, reward, terminated, truncated, _ = env.step(action)\n",
        "      done = terminated or truncated\n",
        "      # env.render()\n",
        "\n",
        "      # Store step in replay buffer\n",
        "      memory.append((state, action, next_state, reward, done))\n",
        "\n",
        "      cum_reward += reward\n",
        "      global_step += 1  # Increment total steps\n",
        "      state = next_state  # Set current state\n",
        "\n",
        "      # If time to train\n",
        "      if global_step > start_training and global_step % learn_frequency == 0:\n",
        "\n",
        "        # Sample batch\n",
        "        batch = prepare_batch(memory, batch_size)\n",
        "\n",
        "        # Train\n",
        "        learn_dqn(batch, optim, q_network, target_network, gamma, global_step, target_update)\n",
        "    env.close()\n",
        "    # Print results at end of episode\n",
        "    results_dqn.append(cum_reward)\n",
        "    loop.update(1)\n",
        "    loop.set_description('Episodes: {} Reward: {}'.format(epoch, cum_reward))\n",
        "\n",
        "  return results_dqn\n",
        "\n",
        "results_dqn = dqn_main()\n",
        "show_video()"
      ]
    },
    {
      "cell_type": "code",
      "execution_count": null,
      "metadata": {
        "id": "ZWYwytCDC3aw",
        "colab": {
          "base_uri": "https://localhost:8080/",
          "height": 430
        },
        "outputId": "bcdbb5c1-a160-4289-c22a-4267723018a7"
      },
      "outputs": [
        {
          "output_type": "display_data",
          "data": {
            "text/plain": [
              "<Figure size 640x480 with 1 Axes>"
            ],
            "image/png": "[encoded data removed]"
          },
          "metadata": {}
        }
      ],
      "source": [
        "plt.plot(results_dqn)\n",
        "plt.show()"
      ]
    },
    {
      "cell_type": "markdown",
      "metadata": {
        "id": "qN9yy5EWVNz0"
      },
      "source": [
        "## PPO"
      ]
    },
    {
      "cell_type": "markdown",
      "metadata": {
        "id": "XvRUJUew0yN_"
      },
      "source": [
        "## Part 2\n",
        "\n",
        "Proximal Policy Optimization (https://arxiv.org/pdf/1707.06347.pdf) is a type of policy gradient method. Instead of calculating Q-values, we train a network $\\pi$ to optimize the probability of taking good actions directly, using states as inputs and actions as outputs. PPO also uses a value network $V$ that estimates state values in order to estimate the advantage $\\hat{A}$.\n",
        "\n",
        "Tuples of state, action distribution, action taken, and return $(s,\\pi(s), a,\\hat{R})$ are gathered for several rollouts. After training on this experience, these tuples are discarded and new experience is gathered.\n",
        "\n",
        "Loss for the value network and the policy network are calculated according to the following formula:\n",
        "\n",
        "$Loss=ValueLoss+PolicyLoss$\n",
        "\n",
        "$ValueLoss=\\frac{1}{N}\\sum \\bigg(\\hat{R} - V(s) \\bigg)^2 $\n",
        "\n",
        "$PolicyLoss=-\\frac{1}{N}\\sum \\min\\bigg( \\frac{\\pi'(a|s)}{\\pi(a|s)} \\hat{A}, clip(\\frac{\\pi'(a|s)}{\\pi(a|s)},1-\\epsilon,1+\\epsilon) \\hat{A} \\bigg) $\n",
        "\n",
        "$\\hat{R}_t = \\sum_{i=t}^H \\gamma^{i-t}r_i$\n",
        "\n",
        "$\\hat{A}_t=\\hat{R}_t-V(s_t)$\n",
        "\n",
        "Here, $\\pi'(a|s)$ is the probability of taking an action given a state under the current policy and $\\pi(a|s)$ is the probability of taking an action given a state under the policy used to gather data. In the loss function, $a$ is the action your agent actually took and is sampled from memory.\n",
        "\n",
        "Additionally, the $clip$ function clips the value of the first argument according to the lower and upper bounds in the second and third arguments resectively.\n",
        "\n",
        "Another important note: Your the calculation of your advantage $\\hat{A}$ should not permit gradient flow from your policy loss calculation. In other words, make sure to call `.detach()` on your advantage.\n",
        "\n",
        "### TODO\n",
        "\n",
        "- Implement calculate return method\n",
        "- Implement get action method\n",
        "- Implement PPO learning algorithm"
      ]
    },
    {
      "cell_type": "code",
      "execution_count": null,
      "metadata": {
        "id": "zsm1pILHVcEp"
      },
      "outputs": [],
      "source": [
        "def calculate_return(memory, rollout, gamma):\n",
        "  \"\"\"Return memory with calculated return in experience tuple\n",
        "\n",
        "    Args:\n",
        "        memory (list): (state, action, action_dist, return) tuples\n",
        "        rollout (list): (state, action, action_dist, reward) tuples from last rollout\n",
        "        gamma (float): discount factor\n",
        "\n",
        "    Returns:\n",
        "        list: memory updated with (state, action, action_dist, return) tuples from rollout\n",
        "  \"\"\"\n",
        "  # Calculating the return.\n",
        "  calc_return = 0\n",
        "  for state, action, action_dist, reward in reversed(rollout):\n",
        "    calc_return = reward + calc_return*gamma\n",
        "    memory.append((state, action, action_dist, calc_return))\n",
        "\n",
        "  return memory\n",
        "\n",
        "\n",
        "def get_action_ppo(network, state):\n",
        "  \"\"\"Sample action from the distribution obtained from the policy network\n",
        "\n",
        "    Args:\n",
        "        network (PolicyNetwork): Policy Network\n",
        "        state (np-array): current state, size (state_size)\n",
        "\n",
        "    Returns:\n",
        "        int: action sampled from output distribution of policy network\n",
        "        array: output distribution of policy network\n",
        "  \"\"\"\n",
        "  with torch.no_grad():\n",
        "    # Converting the current state from list to Float32 tensor and putting it on the GPU.\n",
        "    state_t = torch.from_numpy(state.astype('float32')).cuda()\n",
        "    # Sampling an action from the network based on the current state.\n",
        "    sample_action = network(state_t.unsqueeze(0))\n",
        "    # Chosing an action from the sample_action distribution,\n",
        "    chosen_action = torch.multinomial(sample_action, 1)\n",
        "\n",
        "  return chosen_action.item(), sample_action\n",
        "\n",
        "\n",
        "def learn_ppo(optim, policy, value, memory_dataloader, epsilon, policy_epochs):\n",
        "  \"\"\"Implement PPO policy and value network updates. Iterate over your entire\n",
        "     memory the number of times indicated by policy_epochs.\n",
        "\n",
        "    Args:\n",
        "        optim (Adam): value and policy optimizer\n",
        "        policy (PolicyNetwork): Policy Network\n",
        "        value (ValueNetwork): Value Network\n",
        "        memory_dataloader (DataLoader): dataloader with (state, action, action_dist, return) tensors\n",
        "        epsilon (float): trust region\n",
        "        policy_epochs (int): number of times to iterate over all memory\n",
        "  \"\"\"\n",
        "  # Go through all epochs\n",
        "  for epoch in range(policy_epochs):\n",
        "    for batch in memory_dataloader:\n",
        "      optim.zero_grad()\n",
        "\n",
        "      # Get the all variables from memory (by batch)\n",
        "      state, action, action_dist, return_v = batch\n",
        "      # Convert each of the above variables into their appropriate dtype and putting them on the GPU\n",
        "      state_t = state.type(torch.FloatTensor).cuda()\n",
        "      action_t = action.type(torch.LongTensor).cuda()\n",
        "      action_dist_t = action_dist.type(torch.FloatTensor).cuda()\n",
        "      return_v_t = return_v.type(torch.FloatTensor).cuda()\n",
        "      # Calculate advantage\n",
        "      advantage = (return_v_t - value(state_t).cuda()).detach()\n",
        "      # Calculate value loss\n",
        "      value_loss = F.mse_loss(return_v_t, value(state_t).squeeze())\n",
        "      policy_norm = action_dist.squeeze(1)\n",
        "      action_onehot = F.one_hot(action).bool()\n",
        "      taken_policy_norm = policy_norm[action_onehot]\n",
        "      policy_prime = policy(state_t)\n",
        "      taken_policy_prime = policy_prime[action_onehot]\n",
        "      #Calculate the ratio between them\n",
        "      prim_div_norm = taken_policy_prime / taken_policy_norm\n",
        "      # Clipping π'(s,a)/π(s,a)\n",
        "      clip = torch.clip(prim_div_norm, 1-epsilon, 1+epsilon)\n",
        "      # Left part of the policy loss\n",
        "      left_part = prim_div_norm * advantage\n",
        "      # Right part of the policy los\n",
        "      right_part = clip * advantage\n",
        "      # Calculating policy loss\n",
        "      policy_loss = torch.mean(torch.min(left_part, right_part))\n",
        "      # Total loss\n",
        "      total_loss = value_loss - policy_loss\n",
        "      total_loss.backward()\n",
        "      optim.step()\n",
        "\n"
      ]
    },
    {
      "cell_type": "markdown",
      "metadata": {
        "id": "R6RXma_-vSGX"
      },
      "source": [
        "### Modules"
      ]
    },
    {
      "cell_type": "code",
      "execution_count": null,
      "metadata": {
        "id": "L8URnP8xvTTG"
      },
      "outputs": [],
      "source": [
        "# Dataset that wraps memory for a dataloader\n",
        "class RLDataset(Dataset):\n",
        "  def __init__(self, data):\n",
        "    super().__init__()\n",
        "    self.data = []\n",
        "    for d in data:\n",
        "      self.data.append(d)\n",
        "\n",
        "  def __getitem__(self, index):\n",
        "    return self.data[index]\n",
        "\n",
        "  def __len__(self):\n",
        "    return len(self.data)\n",
        "\n",
        "\n",
        "# Policy Network\n",
        "class PolicyNetwork(nn.Module):\n",
        "  def __init__(self, state_size, action_size):\n",
        "    super().__init__()\n",
        "    hidden_size = 8\n",
        "\n",
        "    self.net = nn.Sequential(nn.Linear(state_size, hidden_size),\n",
        "                             nn.ReLU(),\n",
        "                             nn.Linear(hidden_size, hidden_size),\n",
        "                             nn.ReLU(),\n",
        "                             nn.Linear(hidden_size, hidden_size),\n",
        "                             nn.ReLU(),\n",
        "                             nn.Linear(hidden_size, action_size),\n",
        "                             nn.Softmax(dim=1))\n",
        "\n",
        "  def forward(self, x):\n",
        "    \"\"\"Get policy from state\n",
        "\n",
        "      Args:\n",
        "          state (tensor): current state, size (batch x state_size)\n",
        "\n",
        "      Returns:\n",
        "          action_dist (tensor): probability distribution over actions (batch x action_size)\n",
        "    \"\"\"\n",
        "    return self.net(x)\n",
        "\n",
        "\n",
        "# Value Network\n",
        "class ValueNetwork(nn.Module):\n",
        "  def __init__(self, state_size):\n",
        "    super().__init__()\n",
        "    hidden_size = 8\n",
        "\n",
        "    self.net = nn.Sequential(nn.Linear(state_size, hidden_size),\n",
        "                             nn.ReLU(),\n",
        "                             nn.Linear(hidden_size, hidden_size),\n",
        "                             nn.ReLU(),\n",
        "                             nn.Linear(hidden_size, hidden_size),\n",
        "                             nn.ReLU(),\n",
        "                             nn.Linear(hidden_size, 1))\n",
        "\n",
        "  def forward(self, x):\n",
        "    \"\"\"Estimate value given state\n",
        "\n",
        "      Args:\n",
        "          state (tensor): current state, size (batch x state_size)\n",
        "\n",
        "      Returns:\n",
        "          value (tensor): estimated value, size (batch)\n",
        "    \"\"\"\n",
        "    return self.net(x)"
      ]
    },
    {
      "cell_type": "markdown",
      "metadata": {
        "id": "_aBD_R_e01Qb"
      },
      "source": [
        "### Main"
      ]
    },
    {
      "cell_type": "code",
      "execution_count": null,
      "metadata": {
        "id": "qX_Bv4M4MyY2",
        "colab": {
          "base_uri": "https://localhost:8080/",
          "height": 1000
        },
        "outputId": "64f08e9d-9989-423b-e1d6-e3a045ef2e30"
      },
      "outputs": [
        {
          "output_type": "stream",
          "name": "stderr",
          "text": [
            "Epochs: 18 Reward: 200.0:  95%|█████████▌| 19/20 [02:20<00:12, 12.56s/it]"
          ]
        },
        {
          "output_type": "stream",
          "name": "stdout",
          "text": [
            "Moviepy - Building video /content/video/rl-video-episode-0.mp4.\n",
            "Moviepy - Writing video /content/video/rl-video-episode-0.mp4\n",
            "\n"
          ]
        },
        {
          "output_type": "stream",
          "name": "stderr",
          "text": [
            "\n",
            "t:   0%|          | 0/202 [00:00<?, ?it/s, now=None]\u001b[A\n",
            "t:  17%|█▋        | 34/202 [00:00<00:00, 335.24it/s, now=None]\u001b[A\n",
            "t:  34%|███▎      | 68/202 [00:00<00:00, 311.73it/s, now=None]\u001b[A\n",
            "t:  50%|████▉     | 100/202 [00:00<00:00, 294.64it/s, now=None]\u001b[A\n",
            "t:  64%|██████▍   | 130/202 [00:00<00:00, 295.30it/s, now=None]\u001b[A\n",
            "t:  79%|███████▉  | 160/202 [00:00<00:00, 291.93it/s, now=None]\u001b[A\n",
            "t:  94%|█████████▍| 190/202 [00:00<00:00, 293.28it/s, now=None]\u001b[A\n",
            "Epochs: 18 Reward: 200.0:  95%|█████████▌| 19/20 [02:21<00:12, 12.56s/it]"
          ]
        },
        {
          "output_type": "stream",
          "name": "stdout",
          "text": [
            "Moviepy - Done !\n",
            "Moviepy - video ready /content/video/rl-video-episode-0.mp4\n"
          ]
        },
        {
          "output_type": "stream",
          "name": "stderr",
          "text": [
            "Epochs: 18 Reward: 200.0:  95%|█████████▌| 19/20 [02:22<00:12, 12.56s/it]"
          ]
        },
        {
          "output_type": "stream",
          "name": "stdout",
          "text": [
            "Moviepy - Building video /content/video/rl-video-episode-0.mp4.\n",
            "Moviepy - Writing video /content/video/rl-video-episode-0.mp4\n",
            "\n"
          ]
        },
        {
          "output_type": "stream",
          "name": "stderr",
          "text": [
            "\n",
            "t:   0%|          | 0/202 [00:00<?, ?it/s, now=None]\u001b[A\n",
            "t:  21%|██▏       | 43/202 [00:00<00:00, 425.26it/s, now=None]\u001b[A\n",
            "t:  43%|████▎     | 86/202 [00:00<00:00, 305.46it/s, now=None]\u001b[A\n",
            "t:  59%|█████▉    | 119/202 [00:00<00:00, 301.25it/s, now=None]\u001b[A\n",
            "t:  75%|███████▍  | 151/202 [00:00<00:00, 303.97it/s, now=None]\u001b[A\n",
            "t:  91%|█████████ | 183/202 [00:00<00:00, 298.91it/s, now=None]\u001b[A\n",
            "Epochs: 18 Reward: 200.0:  95%|█████████▌| 19/20 [02:23<00:12, 12.56s/it]"
          ]
        },
        {
          "output_type": "stream",
          "name": "stdout",
          "text": [
            "Moviepy - Done !\n",
            "Moviepy - video ready /content/video/rl-video-episode-0.mp4\n"
          ]
        },
        {
          "output_type": "stream",
          "name": "stderr",
          "text": [
            "Epochs: 18 Reward: 200.0:  95%|█████████▌| 19/20 [02:23<00:12, 12.56s/it]"
          ]
        },
        {
          "output_type": "stream",
          "name": "stdout",
          "text": [
            "Moviepy - Building video /content/video/rl-video-episode-0.mp4.\n",
            "Moviepy - Writing video /content/video/rl-video-episode-0.mp4\n",
            "\n"
          ]
        },
        {
          "output_type": "stream",
          "name": "stderr",
          "text": [
            "\n",
            "t:   0%|          | 0/202 [00:00<?, ?it/s, now=None]\u001b[A\n",
            "t:  22%|██▏       | 44/202 [00:00<00:00, 433.70it/s, now=None]\u001b[A\n",
            "t:  44%|████▎     | 88/202 [00:00<00:00, 328.08it/s, now=None]\u001b[A\n",
            "t:  61%|██████    | 123/202 [00:00<00:00, 294.02it/s, now=None]\u001b[A\n",
            "t:  77%|███████▋  | 156/202 [00:00<00:00, 303.92it/s, now=None]\u001b[A\n",
            "t:  93%|█████████▎| 188/202 [00:00<00:00, 290.84it/s, now=None]\u001b[A\n",
            "Epochs: 18 Reward: 200.0:  95%|█████████▌| 19/20 [02:24<00:12, 12.56s/it]"
          ]
        },
        {
          "output_type": "stream",
          "name": "stdout",
          "text": [
            "Moviepy - Done !\n",
            "Moviepy - video ready /content/video/rl-video-episode-0.mp4\n"
          ]
        },
        {
          "output_type": "stream",
          "name": "stderr",
          "text": [
            "Epochs: 18 Reward: 200.0:  95%|█████████▌| 19/20 [02:25<00:12, 12.56s/it]"
          ]
        },
        {
          "output_type": "stream",
          "name": "stdout",
          "text": [
            "Moviepy - Building video /content/video/rl-video-episode-0.mp4.\n",
            "Moviepy - Writing video /content/video/rl-video-episode-0.mp4\n",
            "\n"
          ]
        },
        {
          "output_type": "stream",
          "name": "stderr",
          "text": [
            "\n",
            "t:   0%|          | 0/202 [00:00<?, ?it/s, now=None]\u001b[A\n",
            "t:  22%|██▏       | 45/202 [00:00<00:00, 445.47it/s, now=None]\u001b[A\n",
            "t:  45%|████▍     | 90/202 [00:00<00:00, 334.41it/s, now=None]\u001b[A\n",
            "t:  62%|██████▏   | 126/202 [00:00<00:00, 327.96it/s, now=None]\u001b[A\n",
            "t:  79%|███████▉  | 160/202 [00:00<00:00, 324.28it/s, now=None]\u001b[A\n",
            "t:  96%|█████████▌| 193/202 [00:00<00:00, 311.92it/s, now=None]\u001b[A\n",
            "Epochs: 18 Reward: 200.0:  95%|█████████▌| 19/20 [02:26<00:12, 12.56s/it]"
          ]
        },
        {
          "output_type": "stream",
          "name": "stdout",
          "text": [
            "Moviepy - Done !\n",
            "Moviepy - video ready /content/video/rl-video-episode-0.mp4\n"
          ]
        },
        {
          "output_type": "stream",
          "name": "stderr",
          "text": [
            "Epochs: 18 Reward: 200.0:  95%|█████████▌| 19/20 [02:27<00:12, 12.56s/it]"
          ]
        },
        {
          "output_type": "stream",
          "name": "stdout",
          "text": [
            "Moviepy - Building video /content/video/rl-video-episode-0.mp4.\n",
            "Moviepy - Writing video /content/video/rl-video-episode-0.mp4\n",
            "\n"
          ]
        },
        {
          "output_type": "stream",
          "name": "stderr",
          "text": [
            "\n",
            "t:   0%|          | 0/202 [00:00<?, ?it/s, now=None]\u001b[A\n",
            "t:  13%|█▎        | 26/202 [00:00<00:00, 259.02it/s, now=None]\u001b[A\n",
            "t:  26%|██▌       | 52/202 [00:00<00:00, 221.28it/s, now=None]\u001b[A\n",
            "t:  37%|███▋      | 75/202 [00:00<00:00, 213.07it/s, now=None]\u001b[A\n",
            "t:  48%|████▊     | 97/202 [00:00<00:00, 208.32it/s, now=None]\u001b[A\n",
            "t:  58%|█████▊    | 118/202 [00:00<00:00, 197.15it/s, now=None]\u001b[A\n",
            "t:  68%|██████▊   | 138/202 [00:00<00:00, 196.84it/s, now=None]\u001b[A\n",
            "t:  78%|███████▊  | 158/202 [00:00<00:00, 192.99it/s, now=None]\u001b[A\n",
            "t:  89%|████████▊ | 179/202 [00:00<00:00, 195.81it/s, now=None]\u001b[A\n",
            "t:  99%|█████████▊| 199/202 [00:00<00:00, 193.21it/s, now=None]\u001b[A\n",
            "Epochs: 18 Reward: 200.0:  95%|█████████▌| 19/20 [02:28<00:12, 12.56s/it]"
          ]
        },
        {
          "output_type": "stream",
          "name": "stdout",
          "text": [
            "Moviepy - Done !\n",
            "Moviepy - video ready /content/video/rl-video-episode-0.mp4\n"
          ]
        },
        {
          "output_type": "stream",
          "name": "stderr",
          "text": [
            "Epochs: 18 Reward: 200.0:  95%|█████████▌| 19/20 [02:29<00:12, 12.56s/it]"
          ]
        },
        {
          "output_type": "stream",
          "name": "stdout",
          "text": [
            "Moviepy - Building video /content/video/rl-video-episode-0.mp4.\n",
            "Moviepy - Writing video /content/video/rl-video-episode-0.mp4\n",
            "\n"
          ]
        },
        {
          "output_type": "stream",
          "name": "stderr",
          "text": [
            "\n",
            "t:   0%|          | 0/202 [00:00<?, ?it/s, now=None]\u001b[A\n",
            "t:  22%|██▏       | 45/202 [00:00<00:00, 439.87it/s, now=None]\u001b[A\n",
            "t:  44%|████▍     | 89/202 [00:00<00:00, 311.89it/s, now=None]\u001b[A\n",
            "t:  61%|██████    | 123/202 [00:00<00:00, 295.28it/s, now=None]\u001b[A\n",
            "t:  77%|███████▋  | 155/202 [00:00<00:00, 300.56it/s, now=None]\u001b[A\n",
            "t:  92%|█████████▏| 186/202 [00:00<00:00, 303.43it/s, now=None]\u001b[A\n",
            "Epochs: 18 Reward: 200.0:  95%|█████████▌| 19/20 [02:30<00:12, 12.56s/it]"
          ]
        },
        {
          "output_type": "stream",
          "name": "stdout",
          "text": [
            "Moviepy - Done !\n",
            "Moviepy - video ready /content/video/rl-video-episode-0.mp4\n"
          ]
        },
        {
          "output_type": "stream",
          "name": "stderr",
          "text": [
            "Epochs: 18 Reward: 200.0:  95%|█████████▌| 19/20 [02:31<00:12, 12.56s/it]"
          ]
        },
        {
          "output_type": "stream",
          "name": "stdout",
          "text": [
            "Moviepy - Building video /content/video/rl-video-episode-0.mp4.\n",
            "Moviepy - Writing video /content/video/rl-video-episode-0.mp4\n",
            "\n"
          ]
        },
        {
          "output_type": "stream",
          "name": "stderr",
          "text": [
            "\n",
            "t:   0%|          | 0/202 [00:00<?, ?it/s, now=None]\u001b[A\n",
            "t:  22%|██▏       | 45/202 [00:00<00:00, 439.27it/s, now=None]\u001b[A\n",
            "t:  44%|████▍     | 89/202 [00:00<00:00, 303.54it/s, now=None]\u001b[A\n",
            "t:  60%|██████    | 122/202 [00:00<00:00, 293.44it/s, now=None]\u001b[A\n",
            "t:  76%|███████▌  | 153/202 [00:00<00:00, 282.85it/s, now=None]\u001b[A\n",
            "t:  91%|█████████ | 184/202 [00:00<00:00, 287.97it/s, now=None]\u001b[A\n",
            "Epochs: 18 Reward: 200.0:  95%|█████████▌| 19/20 [02:31<00:12, 12.56s/it]"
          ]
        },
        {
          "output_type": "stream",
          "name": "stdout",
          "text": [
            "Moviepy - Done !\n",
            "Moviepy - video ready /content/video/rl-video-episode-0.mp4\n"
          ]
        },
        {
          "output_type": "stream",
          "name": "stderr",
          "text": [
            "Epochs: 18 Reward: 200.0:  95%|█████████▌| 19/20 [02:32<00:12, 12.56s/it]"
          ]
        },
        {
          "output_type": "stream",
          "name": "stdout",
          "text": [
            "Moviepy - Building video /content/video/rl-video-episode-0.mp4.\n",
            "Moviepy - Writing video /content/video/rl-video-episode-0.mp4\n",
            "\n"
          ]
        },
        {
          "output_type": "stream",
          "name": "stderr",
          "text": [
            "\n",
            "t:   0%|          | 0/202 [00:00<?, ?it/s, now=None]\u001b[A\n",
            "t:  19%|█▉        | 38/202 [00:00<00:00, 372.90it/s, now=None]\u001b[A\n",
            "t:  38%|███▊      | 76/202 [00:00<00:00, 299.31it/s, now=None]\u001b[A\n",
            "t:  53%|█████▎    | 107/202 [00:00<00:00, 301.81it/s, now=None]\u001b[A\n",
            "t:  68%|██████▊   | 138/202 [00:00<00:00, 300.64it/s, now=None]\u001b[A\n",
            "t:  84%|████████▎ | 169/202 [00:00<00:00, 298.27it/s, now=None]\u001b[A\n",
            "t:  99%|█████████▉| 200/202 [00:00<00:00, 301.20it/s, now=None]\u001b[A\n",
            "Epochs: 18 Reward: 200.0:  95%|█████████▌| 19/20 [02:33<00:12, 12.56s/it]"
          ]
        },
        {
          "output_type": "stream",
          "name": "stdout",
          "text": [
            "Moviepy - Done !\n",
            "Moviepy - video ready /content/video/rl-video-episode-0.mp4\n"
          ]
        },
        {
          "output_type": "stream",
          "name": "stderr",
          "text": [
            "Epochs: 18 Reward: 200.0:  95%|█████████▌| 19/20 [02:33<00:12, 12.56s/it]"
          ]
        },
        {
          "output_type": "stream",
          "name": "stdout",
          "text": [
            "Moviepy - Building video /content/video/rl-video-episode-0.mp4.\n",
            "Moviepy - Writing video /content/video/rl-video-episode-0.mp4\n",
            "\n"
          ]
        },
        {
          "output_type": "stream",
          "name": "stderr",
          "text": [
            "\n",
            "t:   0%|          | 0/202 [00:00<?, ?it/s, now=None]\u001b[A\n",
            "t:  21%|██▏       | 43/202 [00:00<00:00, 426.21it/s, now=None]\u001b[A\n",
            "t:  43%|████▎     | 86/202 [00:00<00:00, 319.93it/s, now=None]\u001b[A\n",
            "t:  59%|█████▉    | 120/202 [00:00<00:00, 312.59it/s, now=None]\u001b[A\n",
            "t:  76%|███████▌  | 153/202 [00:00<00:00, 307.51it/s, now=None]\u001b[A\n",
            "t:  92%|█████████▏| 185/202 [00:00<00:00, 302.19it/s, now=None]\u001b[A\n",
            "Epochs: 18 Reward: 200.0:  95%|█████████▌| 19/20 [02:34<00:12, 12.56s/it]"
          ]
        },
        {
          "output_type": "stream",
          "name": "stdout",
          "text": [
            "Moviepy - Done !\n",
            "Moviepy - video ready /content/video/rl-video-episode-0.mp4\n"
          ]
        },
        {
          "output_type": "stream",
          "name": "stderr",
          "text": [
            "Epochs: 18 Reward: 200.0:  95%|█████████▌| 19/20 [02:35<00:12, 12.56s/it]"
          ]
        },
        {
          "output_type": "stream",
          "name": "stdout",
          "text": [
            "Moviepy - Building video /content/video/rl-video-episode-0.mp4.\n",
            "Moviepy - Writing video /content/video/rl-video-episode-0.mp4\n",
            "\n"
          ]
        },
        {
          "output_type": "stream",
          "name": "stderr",
          "text": [
            "\n",
            "t:   0%|          | 0/184 [00:00<?, ?it/s, now=None]\u001b[A\n",
            "t:  24%|██▍       | 44/184 [00:00<00:00, 431.90it/s, now=None]\u001b[A\n",
            "t:  48%|████▊     | 88/184 [00:00<00:00, 307.94it/s, now=None]\u001b[A\n",
            "t:  66%|██████▌   | 121/184 [00:00<00:00, 299.96it/s, now=None]\u001b[A\n",
            "t:  83%|████████▎ | 153/184 [00:00<00:00, 301.49it/s, now=None]\u001b[A\n",
            "t: 100%|██████████| 184/184 [00:00<00:00, 299.47it/s, now=None]\u001b[A\n",
            "Epochs: 18 Reward: 200.0:  95%|█████████▌| 19/20 [02:36<00:12, 12.56s/it]"
          ]
        },
        {
          "output_type": "stream",
          "name": "stdout",
          "text": [
            "Moviepy - Done !\n",
            "Moviepy - video ready /content/video/rl-video-episode-0.mp4\n"
          ]
        },
        {
          "output_type": "stream",
          "name": "stderr",
          "text": [
            "Epochs: 18 Reward: 200.0:  95%|█████████▌| 19/20 [02:36<00:12, 12.56s/it]"
          ]
        },
        {
          "output_type": "stream",
          "name": "stdout",
          "text": [
            "Moviepy - Building video /content/video/rl-video-episode-1.mp4.\n",
            "Moviepy - Writing video /content/video/rl-video-episode-1.mp4\n",
            "\n"
          ]
        },
        {
          "output_type": "stream",
          "name": "stderr",
          "text": [
            "\n",
            "t:   0%|          | 0/202 [00:00<?, ?it/s, now=None]\u001b[A\n",
            "t:  23%|██▎       | 46/202 [00:00<00:00, 447.94it/s, now=None]\u001b[A\n",
            "t:  45%|████▌     | 91/202 [00:00<00:00, 329.30it/s, now=None]\u001b[A\n",
            "t:  62%|██████▏   | 126/202 [00:00<00:00, 319.32it/s, now=None]\u001b[A\n",
            "t:  79%|███████▊  | 159/202 [00:00<00:00, 318.14it/s, now=None]\u001b[A\n",
            "t:  95%|█████████▌| 192/202 [00:00<00:00, 318.99it/s, now=None]\u001b[A\n",
            "Epochs: 18 Reward: 200.0:  95%|█████████▌| 19/20 [02:37<00:12, 12.56s/it]"
          ]
        },
        {
          "output_type": "stream",
          "name": "stdout",
          "text": [
            "Moviepy - Done !\n",
            "Moviepy - video ready /content/video/rl-video-episode-1.mp4\n"
          ]
        },
        {
          "output_type": "stream",
          "name": "stderr",
          "text": [
            "Epochs: 18 Reward: 200.0:  95%|█████████▌| 19/20 [02:38<00:12, 12.56s/it]"
          ]
        },
        {
          "output_type": "stream",
          "name": "stdout",
          "text": [
            "Moviepy - Building video /content/video/rl-video-episode-1.mp4.\n",
            "Moviepy - Writing video /content/video/rl-video-episode-1.mp4\n",
            "\n"
          ]
        },
        {
          "output_type": "stream",
          "name": "stderr",
          "text": [
            "\n",
            "t:   0%|          | 0/202 [00:00<?, ?it/s, now=None]\u001b[A\n",
            "t:  23%|██▎       | 46/202 [00:00<00:00, 457.12it/s, now=None]\u001b[A\n",
            "t:  46%|████▌     | 92/202 [00:00<00:00, 339.48it/s, now=None]\u001b[A\n",
            "t:  63%|██████▎   | 128/202 [00:00<00:00, 331.66it/s, now=None]\u001b[A\n",
            "t:  81%|████████  | 163/202 [00:00<00:00, 323.14it/s, now=None]\u001b[A\n",
            "t:  97%|█████████▋| 196/202 [00:00<00:00, 302.47it/s, now=None]\u001b[A\n",
            "Epochs: 18 Reward: 200.0:  95%|█████████▌| 19/20 [02:38<00:12, 12.56s/it]"
          ]
        },
        {
          "output_type": "stream",
          "name": "stdout",
          "text": [
            "Moviepy - Done !\n",
            "Moviepy - video ready /content/video/rl-video-episode-1.mp4\n"
          ]
        },
        {
          "output_type": "stream",
          "name": "stderr",
          "text": [
            "Epochs: 18 Reward: 200.0:  95%|█████████▌| 19/20 [02:39<00:12, 12.56s/it]"
          ]
        },
        {
          "output_type": "stream",
          "name": "stdout",
          "text": [
            "Moviepy - Building video /content/video/rl-video-episode-1.mp4.\n",
            "Moviepy - Writing video /content/video/rl-video-episode-1.mp4\n",
            "\n"
          ]
        },
        {
          "output_type": "stream",
          "name": "stderr",
          "text": [
            "\n",
            "t:   0%|          | 0/202 [00:00<?, ?it/s, now=None]\u001b[A\n",
            "t:  15%|█▌        | 31/202 [00:00<00:00, 308.34it/s, now=None]\u001b[A\n",
            "t:  31%|███       | 62/202 [00:00<00:00, 221.85it/s, now=None]\u001b[A\n",
            "t:  43%|████▎     | 86/202 [00:00<00:00, 212.80it/s, now=None]\u001b[A\n",
            "t:  53%|█████▎    | 108/202 [00:00<00:00, 203.98it/s, now=None]\u001b[A\n",
            "t:  64%|██████▍   | 129/202 [00:00<00:00, 196.38it/s, now=None]\u001b[A\n",
            "t:  74%|███████▍  | 149/202 [00:00<00:00, 187.92it/s, now=None]\u001b[A\n",
            "t:  83%|████████▎ | 168/202 [00:00<00:00, 187.70it/s, now=None]\u001b[A\n",
            "t:  93%|█████████▎| 187/202 [00:00<00:00, 183.11it/s, now=None]\u001b[A\n",
            "Epochs: 18 Reward: 200.0:  95%|█████████▌| 19/20 [02:41<00:12, 12.56s/it]"
          ]
        },
        {
          "output_type": "stream",
          "name": "stdout",
          "text": [
            "Moviepy - Done !\n",
            "Moviepy - video ready /content/video/rl-video-episode-1.mp4\n"
          ]
        },
        {
          "output_type": "stream",
          "name": "stderr",
          "text": [
            "Epochs: 18 Reward: 200.0:  95%|█████████▌| 19/20 [02:41<00:12, 12.56s/it]"
          ]
        },
        {
          "output_type": "stream",
          "name": "stdout",
          "text": [
            "Moviepy - Building video /content/video/rl-video-episode-1.mp4.\n",
            "Moviepy - Writing video /content/video/rl-video-episode-1.mp4\n",
            "\n"
          ]
        },
        {
          "output_type": "stream",
          "name": "stderr",
          "text": [
            "\n",
            "t:   0%|          | 0/202 [00:00<?, ?it/s, now=None]\u001b[A\n",
            "t:  23%|██▎       | 46/202 [00:00<00:00, 450.09it/s, now=None]\u001b[A\n",
            "t:  46%|████▌     | 92/202 [00:00<00:00, 343.23it/s, now=None]\u001b[A\n",
            "t:  63%|██████▎   | 128/202 [00:00<00:00, 327.88it/s, now=None]\u001b[A\n",
            "t:  80%|████████  | 162/202 [00:00<00:00, 320.92it/s, now=None]\u001b[A\n",
            "t:  97%|█████████▋| 195/202 [00:00<00:00, 314.45it/s, now=None]\u001b[A\n",
            "Epochs: 18 Reward: 200.0:  95%|█████████▌| 19/20 [02:42<00:12, 12.56s/it]"
          ]
        },
        {
          "output_type": "stream",
          "name": "stdout",
          "text": [
            "Moviepy - Done !\n",
            "Moviepy - video ready /content/video/rl-video-episode-1.mp4\n"
          ]
        },
        {
          "output_type": "stream",
          "name": "stderr",
          "text": [
            "Epochs: 18 Reward: 200.0:  95%|█████████▌| 19/20 [02:43<00:12, 12.56s/it]"
          ]
        },
        {
          "output_type": "stream",
          "name": "stdout",
          "text": [
            "Moviepy - Building video /content/video/rl-video-episode-1.mp4.\n",
            "Moviepy - Writing video /content/video/rl-video-episode-1.mp4\n",
            "\n"
          ]
        },
        {
          "output_type": "stream",
          "name": "stderr",
          "text": [
            "\n",
            "t:   0%|          | 0/202 [00:00<?, ?it/s, now=None]\u001b[A\n",
            "t:  21%|██        | 42/202 [00:00<00:00, 416.22it/s, now=None]\u001b[A\n",
            "t:  42%|████▏     | 84/202 [00:00<00:00, 320.15it/s, now=None]\u001b[A\n",
            "t:  58%|█████▊    | 118/202 [00:00<00:00, 314.73it/s, now=None]\u001b[A\n",
            "t:  75%|███████▍  | 151/202 [00:00<00:00, 319.29it/s, now=None]\u001b[A\n",
            "t:  91%|█████████ | 184/202 [00:00<00:00, 298.85it/s, now=None]\u001b[A\n",
            "Epochs: 18 Reward: 200.0:  95%|█████████▌| 19/20 [02:44<00:12, 12.56s/it]"
          ]
        },
        {
          "output_type": "stream",
          "name": "stdout",
          "text": [
            "Moviepy - Done !\n",
            "Moviepy - video ready /content/video/rl-video-episode-1.mp4\n"
          ]
        },
        {
          "output_type": "stream",
          "name": "stderr",
          "text": [
            "Epochs: 18 Reward: 200.0:  95%|█████████▌| 19/20 [02:44<00:12, 12.56s/it]"
          ]
        },
        {
          "output_type": "stream",
          "name": "stdout",
          "text": [
            "Moviepy - Building video /content/video/rl-video-episode-1.mp4.\n",
            "Moviepy - Writing video /content/video/rl-video-episode-1.mp4\n",
            "\n"
          ]
        },
        {
          "output_type": "stream",
          "name": "stderr",
          "text": [
            "\n",
            "t:   0%|          | 0/202 [00:00<?, ?it/s, now=None]\u001b[A\n",
            "t:  20%|██        | 41/202 [00:00<00:00, 405.64it/s, now=None]\u001b[A\n",
            "t:  41%|████      | 82/202 [00:00<00:00, 316.40it/s, now=None]\u001b[A\n",
            "t:  57%|█████▋    | 115/202 [00:00<00:00, 313.32it/s, now=None]\u001b[A\n",
            "t:  73%|███████▎  | 147/202 [00:00<00:00, 311.21it/s, now=None]\u001b[A\n",
            "t:  89%|████████▊ | 179/202 [00:00<00:00, 307.38it/s, now=None]\u001b[A\n",
            "Epochs: 18 Reward: 200.0:  95%|█████████▌| 19/20 [02:45<00:12, 12.56s/it]"
          ]
        },
        {
          "output_type": "stream",
          "name": "stdout",
          "text": [
            "Moviepy - Done !\n",
            "Moviepy - video ready /content/video/rl-video-episode-1.mp4\n"
          ]
        },
        {
          "output_type": "stream",
          "name": "stderr",
          "text": [
            "Epochs: 18 Reward: 200.0:  95%|█████████▌| 19/20 [02:46<00:12, 12.56s/it]"
          ]
        },
        {
          "output_type": "stream",
          "name": "stdout",
          "text": [
            "Moviepy - Building video /content/video/rl-video-episode-1.mp4.\n",
            "Moviepy - Writing video /content/video/rl-video-episode-1.mp4\n",
            "\n"
          ]
        },
        {
          "output_type": "stream",
          "name": "stderr",
          "text": [
            "\n",
            "t:   0%|          | 0/190 [00:00<?, ?it/s, now=None]\u001b[A\n",
            "t:  25%|██▍       | 47/190 [00:00<00:00, 458.70it/s, now=None]\u001b[A\n",
            "t:  49%|████▉     | 93/190 [00:00<00:00, 328.45it/s, now=None]\u001b[A\n",
            "t:  67%|██████▋   | 128/190 [00:00<00:00, 330.88it/s, now=None]\u001b[A\n",
            "t:  86%|████████▌ | 163/190 [00:00<00:00, 328.97it/s, now=None]\u001b[A\n",
            "Epochs: 18 Reward: 200.0:  95%|█████████▌| 19/20 [02:46<00:12, 12.56s/it]"
          ]
        },
        {
          "output_type": "stream",
          "name": "stdout",
          "text": [
            "Moviepy - Done !\n",
            "Moviepy - video ready /content/video/rl-video-episode-1.mp4\n"
          ]
        },
        {
          "output_type": "stream",
          "name": "stderr",
          "text": [
            "Epochs: 18 Reward: 200.0:  95%|█████████▌| 19/20 [02:50<00:12, 12.56s/it]"
          ]
        },
        {
          "output_type": "stream",
          "name": "stdout",
          "text": [
            "Moviepy - Building video /content/video/rl-video-episode-8.mp4.\n",
            "Moviepy - Writing video /content/video/rl-video-episode-8.mp4\n",
            "\n"
          ]
        },
        {
          "output_type": "stream",
          "name": "stderr",
          "text": [
            "\n",
            "t:   0%|          | 0/1 [00:00<?, ?it/s, now=None]\u001b[A\n",
            "Epochs: 18 Reward: 200.0:  95%|█████████▌| 19/20 [02:50<00:12, 12.56s/it]"
          ]
        },
        {
          "output_type": "stream",
          "name": "stdout",
          "text": [
            "Moviepy - Done !\n",
            "Moviepy - video ready /content/video/rl-video-episode-8.mp4\n"
          ]
        },
        {
          "output_type": "stream",
          "name": "stderr",
          "text": [
            "Epochs: 18 Reward: 200.0:  95%|█████████▌| 19/20 [02:50<00:12, 12.56s/it]"
          ]
        },
        {
          "output_type": "stream",
          "name": "stdout",
          "text": [
            "Moviepy - Building video /content/video/rl-video-episode-8.mp4.\n",
            "Moviepy - Writing video /content/video/rl-video-episode-8.mp4\n",
            "\n"
          ]
        },
        {
          "output_type": "stream",
          "name": "stderr",
          "text": [
            "\n",
            "t:   0%|          | 0/202 [00:00<?, ?it/s, now=None]\u001b[A\n",
            "t:  22%|██▏       | 44/202 [00:00<00:00, 439.50it/s, now=None]\u001b[A\n",
            "t:  44%|████▎     | 88/202 [00:00<00:00, 321.21it/s, now=None]\u001b[A\n",
            "t:  60%|██████    | 122/202 [00:00<00:00, 301.84it/s, now=None]\u001b[A\n",
            "t:  76%|███████▌  | 154/202 [00:00<00:00, 305.52it/s, now=None]\u001b[A\n",
            "t:  92%|█████████▏| 186/202 [00:00<00:00, 303.48it/s, now=None]\u001b[A\n",
            "Epochs: 18 Reward: 200.0:  95%|█████████▌| 19/20 [02:51<00:12, 12.56s/it]"
          ]
        },
        {
          "output_type": "stream",
          "name": "stdout",
          "text": [
            "Moviepy - Done !\n",
            "Moviepy - video ready /content/video/rl-video-episode-8.mp4\n"
          ]
        },
        {
          "output_type": "stream",
          "name": "stderr",
          "text": [
            "Epochs: 18 Reward: 200.0:  95%|█████████▌| 19/20 [02:52<00:12, 12.56s/it]"
          ]
        },
        {
          "output_type": "stream",
          "name": "stdout",
          "text": [
            "Moviepy - Building video /content/video/rl-video-episode-8.mp4.\n",
            "Moviepy - Writing video /content/video/rl-video-episode-8.mp4\n",
            "\n"
          ]
        },
        {
          "output_type": "stream",
          "name": "stderr",
          "text": [
            "\n",
            "t:   0%|          | 0/194 [00:00<?, ?it/s, now=None]\u001b[A\n",
            "t:  16%|█▌        | 31/194 [00:00<00:00, 304.19it/s, now=None]\u001b[A\n",
            "t:  32%|███▏      | 62/194 [00:00<00:00, 216.01it/s, now=None]\u001b[A\n",
            "t:  44%|████▍     | 86/194 [00:00<00:00, 192.35it/s, now=None]\u001b[A\n",
            "t:  55%|█████▌    | 107/194 [00:00<00:00, 188.49it/s, now=None]\u001b[A\n",
            "t:  65%|██████▌   | 127/194 [00:00<00:00, 180.90it/s, now=None]\u001b[A\n",
            "t:  75%|███████▌  | 146/194 [00:00<00:00, 181.66it/s, now=None]\u001b[A\n",
            "t:  85%|████████▌ | 165/194 [00:00<00:00, 180.85it/s, now=None]\u001b[A\n",
            "t:  95%|█████████▍| 184/194 [00:00<00:00, 175.64it/s, now=None]\u001b[A\n",
            "Epochs: 18 Reward: 200.0:  95%|█████████▌| 19/20 [02:53<00:12, 12.56s/it]"
          ]
        },
        {
          "output_type": "stream",
          "name": "stdout",
          "text": [
            "Moviepy - Done !\n",
            "Moviepy - video ready /content/video/rl-video-episode-8.mp4\n"
          ]
        },
        {
          "output_type": "stream",
          "name": "stderr",
          "text": []
        },
        {
          "output_type": "display_data",
          "data": {
            "text/plain": [
              "<IPython.core.display.HTML object>"
            ],
            "text/html": [
              "<video alt=\"test\" autoplay\n",
              "                loop controls style=\"height: 400px;\">\n",
              "                <source src=\"data:video/mp4;base64,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\" type=\"video/mp4\" />\n",
              "             </video>"
            ]
          },
          "metadata": {}
        }
      ],
      "source": [
        "def ppo_main():\n",
        "  # Hyper parameters\n",
        "  lr = 1e-3\n",
        "  epochs = 20\n",
        "  env_samples = 100\n",
        "  gamma = 0.9\n",
        "  batch_size = 256\n",
        "  epsilon = 0.2\n",
        "  policy_epochs = 5\n",
        "\n",
        "  # Init environment\n",
        "  state_size = 4\n",
        "  action_size = 2\n",
        "  env = gym.make('CartPole-v1', render_mode=\"rgb_array\")\n",
        "\n",
        "  # Init networks\n",
        "  policy_network = PolicyNetwork(state_size, action_size).cuda()\n",
        "  value_network = ValueNetwork(state_size).cuda()\n",
        "\n",
        "  # Init optimizer\n",
        "  optim = torch.optim.Adam(chain(policy_network.parameters(), value_network.parameters()), lr=lr)\n",
        "\n",
        "  # Start main loop\n",
        "  results_ppo = []\n",
        "  loop = tqdm(total=epochs, position=0, leave=False)\n",
        "  for epoch in range(epochs):\n",
        "    last_epoch = (epoch+1 == epochs)\n",
        "    # Record only last epoch\n",
        "    if last_epoch:\n",
        "      env = wrap_env(env)\n",
        "\n",
        "    memory = []  # Reset memory every epoch\n",
        "    rewards = []  # Calculate average episodic reward per epoch\n",
        "\n",
        "    # Begin experience loop\n",
        "    for episode in range(env_samples):\n",
        "\n",
        "      # Reset environment\n",
        "      state, _ = env.reset()\n",
        "      done = False\n",
        "      rollout = []\n",
        "      cum_reward = 0  # Track cumulative reward\n",
        "\n",
        "      # Begin episode\n",
        "      while not done and cum_reward < 200:  # End after 200 steps\n",
        "        # Get action\n",
        "        action, action_dist = get_action_ppo(policy_network, state)\n",
        "\n",
        "        # Take step\n",
        "        next_state, reward, terminated, truncated, _ = env.step(action)\n",
        "        done = terminated or truncated\n",
        "        # env.render()\n",
        "\n",
        "        # Store step\n",
        "        rollout.append((state, action, action_dist, reward))\n",
        "\n",
        "        cum_reward += reward\n",
        "        state = next_state  # Set current state\n",
        "\n",
        "      # Calculate returns and add episode to memory\n",
        "      memory = calculate_return(memory, rollout, gamma)\n",
        "\n",
        "      rewards.append(cum_reward)\n",
        "      env.close()\n",
        "    # Train\n",
        "    dataset = RLDataset(memory)\n",
        "    loader = DataLoader(dataset, batch_size=batch_size, shuffle=True)\n",
        "    learn_ppo(optim, policy_network, value_network, loader, epsilon, policy_epochs)\n",
        "\n",
        "    # Print results\n",
        "    results_ppo.extend(rewards)  # Store rewards for this epoch\n",
        "    loop.update(1)\n",
        "    loop.set_description(\"Epochs: {} Reward: {}\".format(epoch, results_ppo[-1]))\n",
        "\n",
        "  return results_ppo\n",
        "\n",
        "results_ppo = ppo_main()\n",
        "show_video()"
      ]
    },
    {
      "cell_type": "code",
      "execution_count": null,
      "metadata": {
        "id": "pLXetCMpC1DE",
        "colab": {
          "base_uri": "https://localhost:8080/",
          "height": 430
        },
        "outputId": "5d40b640-0038-43d8-ab73-57575b380878"
      },
      "outputs": [
        {
          "output_type": "display_data",
          "data": {
            "text/plain": [
              "<Figure size 640x480 with 1 Axes>"
            ],
            "image/png": "[encoded data removed]"
          },
          "metadata": {}
        }
      ],
      "source": [
        "plt.plot(results_ppo)\n",
        "plt.show()"
      ]
    }
  ],
  "metadata": {
    "accelerator": "GPU",
    "colab": {
      "provenance": [],
      "include_colab_link": true
    },
    "kernelspec": {
      "display_name": "Python 3",
      "language": "python",
      "name": "python3"
    },
    "language_info": {
      "codemirror_mode": {
        "name": "ipython",
        "version": 3
      },
      "file_extension": ".py",
      "mimetype": "text/x-python",
      "name": "python",
      "nbconvert_exporter": "python",
      "pygments_lexer": "ipython3",
      "version": "3.9.15"
    }
  },
  "nbformat": 4,
  "nbformat_minor": 0
}